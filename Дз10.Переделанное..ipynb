{
 "cells": [
  {
   "cell_type": "markdown",
   "id": "dda65d5b",
   "metadata": {},
   "source": [
    "### Задание 2"
   ]
  },
  {
   "cell_type": "code",
   "execution_count": 1,
   "id": "297af83e",
   "metadata": {},
   "outputs": [],
   "source": [
    "class Employee:\n",
    "    def __init__(self, name, seniority):\n",
    "        self.name = name\n",
    "        self.seniority = seniority\n",
    "        \n",
    "        self.grade = 1\n",
    "    \n",
    "    def grade_up(self):\n",
    "        \"\"\"Повышает уровень сотрудника\"\"\"\n",
    "        self.grade += 1\n",
    "    \n",
    "    def publish_grade(self):\n",
    "        \"\"\"Публикация результатов аккредитации сотрудников\"\"\"\n",
    "        print(self.name, self.grade)\n",
    "    \n",
    "    def check_if_it_is_time_for_upgrade(self):\n",
    "        pass"
   ]
  },
  {
   "cell_type": "code",
   "execution_count": 2,
   "id": "4a0103c0",
   "metadata": {},
   "outputs": [],
   "source": [
    "class Designer(Employee):\n",
    "    def __init__(self, name, seniority, awards):\n",
    "        super().__init__(name, seniority)\n",
    "        self.awards = awards\n",
    "        self.seniority += self.awards * 2\n",
    "       \n",
    "    def get_award(self):\n",
    "        self.awards += 1\n",
    "        self.seniority += 2\n",
    "        \n",
    "    def check_if_it_is_time_for_upgrade(self):\n",
    "        #для_каждой_аккредитации_увеличиваем_счетчик_на_1\n",
    "        #пока_считаем,_что_все_разработчики_проходят_аккредитацию\n",
    "        self.seniority += 1\n",
    "        \n",
    "        #условие_повышения_сотрудника_из_презентации\n",
    "        if self.seniority % 7 == 0:\n",
    "            self.grade_up()\n",
    "        \n",
    "        #публикация_результатов\n",
    "        return self.publish_grade()"
   ]
  },
  {
   "cell_type": "code",
   "execution_count": 3,
   "id": "72bc3db4",
   "metadata": {},
   "outputs": [],
   "source": [
    "elena = Designer('Елена', seniority=0, awards=2)"
   ]
  },
  {
   "cell_type": "code",
   "execution_count": 4,
   "id": "ec2055a7",
   "metadata": {},
   "outputs": [
    {
     "name": "stdout",
     "output_type": "stream",
     "text": [
      "Елена 2\n",
      "Елена 2\n",
      "Елена 2\n",
      "Елена 2\n",
      "Елена 2\n",
      "Елена 2\n",
      "Елена 2\n",
      "Елена 3\n",
      "Елена 3\n",
      "Елена 3\n",
      "Елена 3\n",
      "Елена 3\n",
      "Елена 3\n",
      "Елена 3\n",
      "Елена 4\n",
      "Елена 4\n",
      "Елена 4\n",
      "Елена 4\n",
      "Елена 4\n",
      "Елена 4\n"
     ]
    }
   ],
   "source": [
    "elena.get_award()\n",
    "for i in range(20):\n",
    "    elena.check_if_it_is_time_for_upgrade()"
   ]
  },
  {
   "cell_type": "code",
   "execution_count": 5,
   "id": "089123dd",
   "metadata": {},
   "outputs": [
    {
     "name": "stdout",
     "output_type": "stream",
     "text": [
      "Requirement already satisfied: ipytest in c:\\users\\dimon\\anaconda3\\lib\\site-packages (0.13.0)\n",
      "Requirement already satisfied: packaging in c:\\users\\dimon\\anaconda3\\lib\\site-packages (from ipytest) (21.3)\n",
      "Requirement already satisfied: ipython in c:\\users\\dimon\\anaconda3\\lib\\site-packages (from ipytest) (8.2.0)\n",
      "Requirement already satisfied: pytest>=5.4 in c:\\users\\dimon\\anaconda3\\lib\\site-packages (from ipytest) (7.1.1)\n",
      "Requirement already satisfied: attrs>=19.2.0 in c:\\users\\dimon\\anaconda3\\lib\\site-packages (from pytest>=5.4->ipytest) (21.4.0)\n",
      "Requirement already satisfied: iniconfig in c:\\users\\dimon\\anaconda3\\lib\\site-packages (from pytest>=5.4->ipytest) (1.1.1)\n",
      "Requirement already satisfied: pluggy<2.0,>=0.12 in c:\\users\\dimon\\anaconda3\\lib\\site-packages (from pytest>=5.4->ipytest) (1.0.0)\n",
      "Requirement already satisfied: py>=1.8.2 in c:\\users\\dimon\\anaconda3\\lib\\site-packages (from pytest>=5.4->ipytest) (1.11.0)\n",
      "Requirement already satisfied: tomli>=1.0.0 in c:\\users\\dimon\\anaconda3\\lib\\site-packages (from pytest>=5.4->ipytest) (1.2.2)\n",
      "Requirement already satisfied: atomicwrites>=1.0 in c:\\users\\dimon\\anaconda3\\lib\\site-packages (from pytest>=5.4->ipytest) (1.4.0)\n",
      "Requirement already satisfied: colorama in c:\\users\\dimon\\anaconda3\\lib\\site-packages (from pytest>=5.4->ipytest) (0.4.4)\n",
      "Requirement already satisfied: prompt-toolkit!=3.0.0,!=3.0.1,<3.1.0,>=2.0.0 in c:\\users\\dimon\\anaconda3\\lib\\site-packages (from ipython->ipytest) (3.0.20)\n",
      "Requirement already satisfied: backcall in c:\\users\\dimon\\anaconda3\\lib\\site-packages (from ipython->ipytest) (0.2.0)\n",
      "Requirement already satisfied: pickleshare in c:\\users\\dimon\\anaconda3\\lib\\site-packages (from ipython->ipytest) (0.7.5)\n",
      "Requirement already satisfied: pygments>=2.4.0 in c:\\users\\dimon\\anaconda3\\lib\\site-packages (from ipython->ipytest) (2.11.2)\n",
      "Requirement already satisfied: traitlets>=5 in c:\\users\\dimon\\anaconda3\\lib\\site-packages (from ipython->ipytest) (5.1.1)\n",
      "Requirement already satisfied: matplotlib-inline in c:\\users\\dimon\\anaconda3\\lib\\site-packages (from ipython->ipytest) (0.1.2)\n",
      "Requirement already satisfied: jedi>=0.16 in c:\\users\\dimon\\anaconda3\\lib\\site-packages (from ipython->ipytest) (0.18.1)\n",
      "Requirement already satisfied: decorator in c:\\users\\dimon\\anaconda3\\lib\\site-packages (from ipython->ipytest) (5.1.1)\n",
      "Requirement already satisfied: stack-data in c:\\users\\dimon\\anaconda3\\lib\\site-packages (from ipython->ipytest) (0.2.0)\n",
      "Requirement already satisfied: setuptools>=18.5 in c:\\users\\dimon\\anaconda3\\lib\\site-packages (from ipython->ipytest) (61.2.0)\n",
      "Requirement already satisfied: parso<0.9.0,>=0.8.0 in c:\\users\\dimon\\anaconda3\\lib\\site-packages (from jedi>=0.16->ipython->ipytest) (0.8.3)\n",
      "Requirement already satisfied: wcwidth in c:\\users\\dimon\\anaconda3\\lib\\site-packages (from prompt-toolkit!=3.0.0,!=3.0.1,<3.1.0,>=2.0.0->ipython->ipytest) (0.2.5)\n",
      "Requirement already satisfied: pyparsing!=3.0.5,>=2.0.2 in c:\\users\\dimon\\anaconda3\\lib\\site-packages (from packaging->ipytest) (3.0.4)\n",
      "Requirement already satisfied: pure-eval in c:\\users\\dimon\\anaconda3\\lib\\site-packages (from stack-data->ipython->ipytest) (0.2.2)\n",
      "Requirement already satisfied: asttokens in c:\\users\\dimon\\anaconda3\\lib\\site-packages (from stack-data->ipython->ipytest) (2.0.5)\n",
      "Requirement already satisfied: executing in c:\\users\\dimon\\anaconda3\\lib\\site-packages (from stack-data->ipython->ipytest) (0.8.3)\n",
      "Requirement already satisfied: six in c:\\users\\dimon\\anaconda3\\lib\\site-packages (from asttokens->stack-data->ipython->ipytest) (1.16.0)\n"
     ]
    }
   ],
   "source": [
    "!pip install ipytest"
   ]
  },
  {
   "cell_type": "code",
   "execution_count": 6,
   "id": "0dbd9373",
   "metadata": {},
   "outputs": [
    {
     "name": "stdout",
     "output_type": "stream",
     "text": [
      "\u001b[32m.\u001b[0m\u001b[32m                                                                                            [100%]\u001b[0m\n",
      "\u001b[32m\u001b[32m\u001b[1m1 passed\u001b[0m\u001b[32m in 0.01s\u001b[0m\u001b[0m\n"
     ]
    },
    {
     "data": {
      "text/plain": [
       "<ExitCode.OK: 0>"
      ]
     },
     "execution_count": 6,
     "metadata": {},
     "output_type": "execute_result"
    }
   ],
   "source": [
    "import pytest\n",
    "import ipytest\n",
    "ipytest.autoconfig()\n",
    "\n",
    "@pytest.fixture\n",
    "def designer():\n",
    "    def init_designer(seniority):\n",
    "      return Designer(name='Bob', awards=2, seniority=seniority)\n",
    "    return init_designer\n",
    "\n",
    "def test_one(designer):\n",
    "    empl = designer(seniority=2)\n",
    "    assert empl.seniority == 6\n",
    "    assert empl.grade == 1\n",
    "    \n",
    "    empl.check_if_it_is_time_for_upgrade()\n",
    "    assert empl.seniority == 7\n",
    "    assert empl.grade == 2  \n",
    "    \n",
    "ipytest.run()"
   ]
  },
  {
   "cell_type": "markdown",
   "id": "2624b0b1",
   "metadata": {},
   "source": [
    "### Задание 3"
   ]
  },
  {
   "cell_type": "code",
   "execution_count": 7,
   "id": "1695f76d",
   "metadata": {},
   "outputs": [],
   "source": [
    "import requests"
   ]
  },
  {
   "cell_type": "code",
   "execution_count": 8,
   "id": "8953db0f",
   "metadata": {},
   "outputs": [],
   "source": [
    "class Rate:\n",
    "    def __init__(self, format_='value', diff_ = False):\n",
    "        self.format = format_\n",
    "        self.diff = diff_\n",
    "    \n",
    "    def exchange_rates(self):\n",
    "        self.r = requests.get('https://www.cbr-xml-daily.ru/daily_json.js')\n",
    "        return self.r.json()['Valute']\n",
    "    \n",
    "    def make_format(self, currency):\n",
    "        response = self.exchange_rates()\n",
    "        \n",
    "        if currency in response:\n",
    "            if self.format == 'full':\n",
    "                return response[currency]\n",
    "            \n",
    "            if self.format == 'value':\n",
    "                return response[currency]['Value']\n",
    "        \n",
    "        return 'Error'\n",
    "    \n",
    "    def eur(self):\n",
    "        if self.diff == True:\n",
    "            information = self.exchange_rates()\n",
    "            info_eur = information[\"EUR\"]\n",
    "            result = info_eur['Previous'] - info_eur['Value']\n",
    "            return result\n",
    "\n",
    "        if self.diff == False:\n",
    "            return self.make_format('EUR')\n",
    "    \n",
    "    def usd(self):\n",
    "        if self.diff == True:\n",
    "            information = self.exchange_rates()\n",
    "            info_eur = information[\"USD\"]\n",
    "            result = info_eur['Previous'] - info_eur['Value']\n",
    "            return result\n",
    "\n",
    "        if self.diff == False:\n",
    "            return self.make_format('USD')\n",
    "    \n",
    "    def brl(self):\n",
    "        if self.diff == True:\n",
    "            information = self.exchange_rates()\n",
    "            info_eur = information[\"BRL\"]\n",
    "            result = info_eur['Previous'] - info_eur['Value']\n",
    "            return result\n",
    "\n",
    "        if self.diff == False:\n",
    "            return self.make_format('BRL')"
   ]
  },
  {
   "cell_type": "code",
   "execution_count": 9,
   "id": "012afb74",
   "metadata": {},
   "outputs": [],
   "source": [
    "emp_1 = Rate(diff_ = True)"
   ]
  },
  {
   "cell_type": "code",
   "execution_count": 10,
   "id": "a425fe69",
   "metadata": {},
   "outputs": [
    {
     "data": {
      "text/plain": [
       "-0.7460999999999984"
      ]
     },
     "execution_count": 10,
     "metadata": {},
     "output_type": "execute_result"
    }
   ],
   "source": [
    "emp_1.eur()"
   ]
  },
  {
   "cell_type": "code",
   "execution_count": 11,
   "id": "4644a77c",
   "metadata": {},
   "outputs": [
    {
     "data": {
      "text/plain": [
       "-0.11770000000000103"
      ]
     },
     "execution_count": 11,
     "metadata": {},
     "output_type": "execute_result"
    }
   ],
   "source": [
    "emp_1.brl()"
   ]
  },
  {
   "cell_type": "code",
   "execution_count": null,
   "id": "89731c2a",
   "metadata": {},
   "outputs": [],
   "source": []
  }
 ],
 "metadata": {
  "kernelspec": {
   "display_name": "Python 3 (ipykernel)",
   "language": "python",
   "name": "python3"
  },
  "language_info": {
   "codemirror_mode": {
    "name": "ipython",
    "version": 3
   },
   "file_extension": ".py",
   "mimetype": "text/x-python",
   "name": "python",
   "nbconvert_exporter": "python",
   "pygments_lexer": "ipython3",
   "version": "3.9.12"
  }
 },
 "nbformat": 4,
 "nbformat_minor": 5
}
